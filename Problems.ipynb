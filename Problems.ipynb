{
 "cells": [
  {
   "cell_type": "code",
   "execution_count": 2,
   "metadata": {},
   "outputs": [],
   "source": [
    "import random\n",
    "import matplotlib.pyplot as plt\n",
    "import math\n",
    "import numpy as np\n",
    "import matplotlib.patches as patches\n",
    "random.seed(5918)\n",
    "np.random.seed(5918)"
   ]
  },
  {
   "cell_type": "code",
   "execution_count": 8,
   "metadata": {},
   "outputs": [],
   "source": [
    "%run Preprocessing.ipynb"
   ]
  },
  {
   "cell_type": "code",
   "execution_count": 9,
   "metadata": {},
   "outputs": [],
   "source": [
    "\n",
    "def make_a_test_map(n_nodes:int):\n",
    "    max_x = 100\n",
    "    max_y = 100\n",
    "    \n",
    "    i = 1\n",
    "    \n",
    "    grid = {}\n",
    "    \n",
    "    grid[0] = (0,0)\n",
    "    \n",
    "    while i<=n_nodes:\n",
    "        grid[i] = (random.randint(0,99),random.randint(0,99))\n",
    "        i+=1\n",
    "    \n",
    "    return grid\n",
    "\n",
    "def distance(x1,y1,x2,y2):\n",
    "    \n",
    "    return math.sqrt((x2-x1)**2+(y2-y1)**2)\n",
    "\n",
    "def detour_length(p1,p2,c1,grid):\n",
    "    x1,y1 = grid[p1]\n",
    "    x2,y2 = grid[p2]\n",
    "    x3,y3 = grid[c1]\n",
    "    \n",
    "    new_length = distance(x1,y1,x2,y2)+distance(x2,y2,x3,y3)\n",
    "    old_length = distance(x1,y1,x3,y3)\n",
    "\n",
    "    return new_length-old_length\n",
    "    \n",
    "\n",
    "\n",
    "def make_tour(grid:dict, tourlength:int):\n",
    "    '''\n",
    "    This function takes a dictionary of nodes and selects a given number of nodes to make a tour\n",
    "    beginning and ending at the depot\n",
    "    \n",
    "    returns a list containing the order of the nodes, and the length of the tour\n",
    "    '''\n",
    "    tour = [0]\n",
    "    dist = 0\n",
    "    nodes = list(range(1,len(grid)))\n",
    "    random.shuffle(nodes)\n",
    "    curr_node = 0\n",
    "    i = 1\n",
    "    while i<=tourlength:\n",
    "        new = nodes.pop()\n",
    "        tour.append(new)\n",
    "        x1, y1 = grid[curr_node]\n",
    "        x2, y2 = grid[new]\n",
    "        dist += distance(x1,y1,x2,y2)\n",
    "        curr_node = new\n",
    "        i+=1\n",
    "    \n",
    "    tour.append(0)\n",
    "    x1, y1 = grid[curr_node]\n",
    "    x2, y2 = grid[0]\n",
    "    dist += distance(x1,y1,x2,y2)\n",
    "      \n",
    "    return tour, dist\n"
   ]
  },
  {
   "cell_type": "code",
   "execution_count": 40,
   "metadata": {},
   "outputs": [],
   "source": [
    "def make_map_with_clusters(n_nodes_per_cluster:int, n_clusters:int,cluster_radius = 200):\n",
    "\n",
    "    max_x = 1000\n",
    "    max_y = 1000\n",
    "    \n",
    "    turbine_id = 1\n",
    "    \n",
    "    grid = {}\n",
    "    \n",
    "    grid[0] = (0,0)\n",
    "    \n",
    "    cluster_centers = []\n",
    "    cs = []\n",
    "    \n",
    "    for _ in range(n_clusters):\n",
    "        angle = random.uniform(0,math.pi/2)\n",
    "        \n",
    "        apexx = int(cluster_radius*math.cos(angle))\n",
    "        apexy = int(cluster_radius*math.sin(angle))\n",
    "        cx = round(random.uniform(apexx, max_x))\n",
    "        cy = round(random.uniform(apexy,max_y))\n",
    "        cluster_centers.append((cx,cy))\n",
    "        grid[turbine_id] = (cx,cy)\n",
    "        cs.append(turbine_id)\n",
    "        turbine_id+=1\n",
    "        \n",
    "    for cluster in cluster_centers:\n",
    "        cx,cy = cluster\n",
    "    \n",
    "        for _ in range(n_nodes_per_cluster):\n",
    "            x = int(random.gauss(cx,50))\n",
    "            y = int(random.gauss(cy,50))\n",
    "            \n",
    "            x = max(0,min(x,max_x))\n",
    "            y = max(0,min(y,max_y))\n",
    "            \n",
    "            grid[turbine_id] = (x,y)\n",
    "            turbine_id +=1\n",
    "    \n",
    "\n",
    "    return grid,cs,cluster_centers\n",
    "\n",
    "    \n",
    "    \n",
    "    "
   ]
  },
  {
   "cell_type": "code",
   "execution_count": 41,
   "metadata": {},
   "outputs": [],
   "source": [
    "def generate_jobs(nodes:dict,n_chargers): #The nodes here should only be the OTWs\n",
    "    \"\"\"This function generates jobs for the problem. The crew_needed for each job states how much of the passanger capacity the crew for this job takes in the vessel. The priority property is used\n",
    "    in the objective function in the case that a job is left unserved. A higher priority yields a larger penalty. This function can be expanded to give more parameters to the jobs-\n",
    "\n",
    "    Args:\n",
    "        nodes (dict): All the nodes in the problem\n",
    "        n_chargers (int): The number of chargers in the problem. This is used to find the correct index of the OTW-nodes\n",
    "\n",
    "    Returns:\n",
    "        jobs (dict): All the jobs with turbine_id as key and (crew_needed, priority) as value. \n",
    "    \"\"\"\n",
    "    \n",
    "    n_nodes = len(nodes)\n",
    "    n_jobs = n_nodes-(n_chargers+1)\n",
    "    \n",
    "    crew_needed = np.clip(np.random.normal(loc=5, scale=2, size=n_nodes).astype(int), a_min=1, a_max=None)\n",
    "    crew_needed = crew_needed.tolist()\n",
    "\n",
    "    \n",
    "    jobs = {}\n",
    "    for i in range(n_chargers+1,n_nodes):\n",
    "        tag = i\n",
    "        job = crew_needed.pop()\n",
    "        jobs[tag] = job\n",
    "\n",
    "    return jobs\n"
   ]
  },
  {
   "cell_type": "code",
   "execution_count": 42,
   "metadata": {},
   "outputs": [
    {
     "data": {
      "text/plain": [
       "'test = make_a_test_map(10)\\ntour1, len1 = make_tour(test,3)\\ntour2, len2 = make_tour(test,2)\\ncluster_test, centers = make_a_test_map_with_clusters(3,3,35)\\nclustertour1, clustertourlength1 = make_tour(cluster_test,4)\\nclustertour2, clustertourlength2 = make_tour(cluster_test,3)\\n'"
      ]
     },
     "execution_count": 42,
     "metadata": {},
     "output_type": "execute_result"
    }
   ],
   "source": [
    "'''test = make_a_test_map(10)\n",
    "tour1, len1 = make_tour(test,3)\n",
    "tour2, len2 = make_tour(test,2)\n",
    "cluster_test, centers = make_a_test_map_with_clusters(3,3,35)\n",
    "clustertour1, clustertourlength1 = make_tour(cluster_test,4)\n",
    "clustertour2, clustertourlength2 = make_tour(cluster_test,3)\n",
    "'''"
   ]
  },
  {
   "cell_type": "code",
   "execution_count": 45,
   "metadata": {},
   "outputs": [
    {
     "data": {
      "text/plain": [
       "'clusterplot = show_the_grid(cluster_test,len(centers))\\nplot_tour_on_map(clusterplot,cluster_test,clustertour1,clustertourlength1,\"Tour 1\")\\nplot_tour_on_map(clusterplot,cluster_test,clustertour2,clustertourlength2,\"Tour 2\",color = \\'purple\\')\\nplot_cluster_centers(clusterplot,centers,30)\\nprint(clustertour2)'"
      ]
     },
     "execution_count": 45,
     "metadata": {},
     "output_type": "execute_result"
    }
   ],
   "source": [
    "'''clusterplot = show_the_grid(cluster_test,len(centers))\n",
    "plot_tour_on_map(clusterplot,cluster_test,clustertour1,clustertourlength1,\"Tour 1\")\n",
    "plot_tour_on_map(clusterplot,cluster_test,clustertour2,clustertourlength2,\"Tour 2\",color = 'purple')\n",
    "plot_cluster_centers(clusterplot,centers,30)\n",
    "print(clustertour2)'''"
   ]
  },
  {
   "cell_type": "code",
   "execution_count": 46,
   "metadata": {},
   "outputs": [],
   "source": [
    "def montecarlolength():\n",
    "    '''\n",
    "    I want this function to make 10 grids, and for each grid to make 10000 tours of tourlength tourlength.\n",
    "    I should then check that each node is visited evenly, and primarily it should calculate the average length of the tours\n",
    "    '''\n",
    "    avgs = np.zeros(4)\n",
    "    i_s = 10\n",
    "    j_s = 100000\n",
    "    for n in range(1,5):\n",
    "        \n",
    "        for i in range(i_s):\n",
    "            \n",
    "            curr_map = make_a_test_map(15)\n",
    "            \n",
    "            for j in range(j_s):\n",
    "                tour, tourlength = make_tour(curr_map,n)\n",
    "                avgs[n-1] += tourlength/(i_s*j_s)\n",
    "    \n",
    "    \n",
    "    return avgs\n",
    "        "
   ]
  },
  {
   "cell_type": "code",
   "execution_count": 47,
   "metadata": {},
   "outputs": [],
   "source": [
    "def montecarlolength_cluster():\n",
    "    '''\n",
    "    I want this function to make 10 grids, and for each grid to make 10000 tours of tourlength tourlength.\n",
    "    I should then check that each node is visited evenly, and primarily it should calculate the average length of the tours\n",
    "    '''\n",
    "    avgs = np.zeros(4)\n",
    "    i_s = 10\n",
    "    j_s = 100000\n",
    "    for n in range(1,5):\n",
    "        \n",
    "        for i in range(i_s):\n",
    "            \n",
    "            curr_map,_, _ = make_map_with_clusters(6,1,20)\n",
    "            \n",
    "            for j in range(j_s):\n",
    "                tour, tourlength = make_tour(curr_map,n)\n",
    "                avgs[n-1] += tourlength/(i_s*j_s)\n",
    "    \n",
    "    \n",
    "    return avgs"
   ]
  },
  {
   "cell_type": "code",
   "execution_count": 48,
   "metadata": {},
   "outputs": [],
   "source": [
    "#lengths = montecarlolength()"
   ]
  },
  {
   "cell_type": "code",
   "execution_count": 49,
   "metadata": {},
   "outputs": [],
   "source": [
    "#cluster_lengths = montecarlolength_cluster()"
   ]
  },
  {
   "cell_type": "code",
   "execution_count": 50,
   "metadata": {},
   "outputs": [],
   "source": [
    "def vessel_types():\n",
    "    vessels = {}\n",
    "    #ID: The keys in the dictionary is the vessel id.\n",
    "    battery_range = [2000,3000,4500] # I think these ranges should be okay for now since it allows the medium and big vessel type to go to more than one cluster\n",
    "    #coeffecient = [] #kWh / km \n",
    "    operational_cost = [1, 2, 3.5] #cost per km\n",
    "    speed = [20,22,25] # Knots. In km/h: 37,41,46\n",
    "    passenger_capacity = [10,15,25] # This will be modified depending on the avg size of the crews.\n",
    "    fixed_cost = [5000,10000,17000]\n",
    "    \n",
    "    \n",
    "    vessels[1] = [1,battery_range[0],operational_cost[0],speed[0], passenger_capacity[0],fixed_cost[0]]\n",
    "    vessels[2] = [2,battery_range[1],operational_cost[1],speed[1], passenger_capacity[1],fixed_cost[1]]\n",
    "    vessels[3] = [3,battery_range[2],operational_cost[2],speed[2], passenger_capacity[2],fixed_cost[2]]\n",
    "    \n",
    "    return vessels\n",
    "    \n",
    "    \n",
    "    "
   ]
  },
  {
   "cell_type": "code",
   "execution_count": 51,
   "metadata": {},
   "outputs": [],
   "source": [
    "def all_nodes(jobs):\n",
    "    \n",
    "    nodes = []\n",
    "    \n",
    "    for job in jobs.keys():\n",
    "        nodes.append((job,0))\n",
    "        nodes.append((job,1))\n",
    "    \n",
    "    return nodes"
   ]
  },
  {
   "cell_type": "code",
   "execution_count": 3,
   "metadata": {},
   "outputs": [],
   "source": [
    "def make_problem(n_nodes_per_cluster, n_chargers,print_=True):\n",
    "    \n",
    "    random.seed(5918)\n",
    "    \n",
    "    problem = {}\n",
    "    \n",
    "    locations, cs, cs_locations = make_map_with_clusters(n_nodes_per_cluster=n_nodes_per_cluster,n_clusters=n_chargers)\n",
    "    problem[\"Locations\"] = locations\n",
    "    charging_stations = list(zip(cs,cs_locations))\n",
    "    \n",
    "    problem[\"ChargingStations\"] = charging_stations\n",
    "    \n",
    "    \n",
    "    jobs = generate_jobs(locations,len(charging_stations))\n",
    "    problem[\"Jobs\"] = jobs\n",
    "    \n",
    "    \n",
    "    nodes = all_nodes(jobs)\n",
    "    \n",
    "    problem[\"Nodes\"] = nodes\n",
    "    \n",
    "    vessels = vessel_types()\n",
    "    problem[\"Vessels\"] = vessels\n",
    "    \n",
    "    \n",
    "    costs = {\"Fixed Penalty\": 2000, #Penalty for each crew member outsourced. This makes a bigger job be more prenalized than a smaller job\n",
    "             \"PenaltyPerCrew\": 750\n",
    "            }\n",
    "    problem[\"Costs\"] = costs\n",
    "    \n",
    "    pp = preprocessing(problem)\n",
    "    \n",
    "    problem[\"PreProseccing\"] = pp\n",
    "    \n",
    "    if print_:\n",
    "        print(\"Jobs Information:\")\n",
    "        print(\"{:<15} {:<15}\".format(\"Turbine ID\", \"Crew Needed\"))\n",
    "        for turbine_id, (crew_needed) in jobs.items():\n",
    "            print(\"{:<15} {:<15}\".format(turbine_id, crew_needed))\n",
    "        \n",
    "        print(\"Vessel Types Information:\")\n",
    "        print(\"{:<10} {:<15} {:<20} {:<25} {:<20} {:<20}\".format(\"Vessel ID\", \"Battery Range\", \"Operational Cost\", \"Speed (Knots)\", \"Passenger Capacity\", \"Fixed Cost\"))\n",
    "        for specs in vessels.values():\n",
    "            vessel_id, battery_range, operational_cost, speed, passenger_capacity,fixed_cost = specs\n",
    "            print(\"{:<10} {:<15} {:<20} {:<25} {:<20} {:<20}\".format(vessel_id, battery_range, operational_cost, speed, passenger_capacity,fixed_cost))\n",
    "    \n",
    "        \n",
    "    \n",
    "    \n",
    "    return problem\n",
    "    "
   ]
  },
  {
   "cell_type": "code",
   "execution_count": null,
   "metadata": {},
   "outputs": [],
   "source": [
    "              "
   ]
  }
 ],
 "metadata": {
  "kernelspec": {
   "display_name": "Masters",
   "language": "python",
   "name": "python3"
  },
  "language_info": {
   "codemirror_mode": {
    "name": "ipython",
    "version": 3
   },
   "file_extension": ".py",
   "mimetype": "text/x-python",
   "name": "python",
   "nbconvert_exporter": "python",
   "pygments_lexer": "ipython3",
   "version": "3.9.18"
  }
 },
 "nbformat": 4,
 "nbformat_minor": 2
}
